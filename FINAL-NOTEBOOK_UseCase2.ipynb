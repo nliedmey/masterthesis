{
 "cells": [
  {
   "cell_type": "markdown",
   "metadata": {
    "collapsed": false,
    "jupyter": {
     "outputs_hidden": false
    },
    "pycharm": {
     "name": "#%% md\n"
    }
   },
   "source": [
    "# AP3 - Movement Interpretation"
   ]
  },
  {
   "cell_type": "code",
   "execution_count": 2,
   "metadata": {
    "collapsed": false,
    "jupyter": {
     "outputs_hidden": false
    },
    "pycharm": {
     "name": "#%%\n"
    }
   },
   "outputs": [],
   "source": [
    "import matplotlib.pyplot as plt\n",
    "import numpy as np\n",
    "import pandas as pd\n",
    "from Utils import parsXlsxToDf\n",
    "from FeatureExtraction import euclideanDistance3dCalc, angleThreePoints3dCalc\n",
    "from sktime.datasets import load_arrow_head\n",
    "from sktime.classification.compose import ComposableTimeSeriesForestClassifier\n",
    "from sklearn.model_selection import train_test_split\n",
    "from sktime.datatypes import convert\n",
    "import sktime.datatypes\n",
    "from sklearn.metrics import accuracy_score\n",
    "from sktime.classification.base import BaseClassifier\n",
    "import cv2\n",
    "import mediapipe as mp"
   ]
  },
  {
   "cell_type": "markdown",
   "metadata": {
    "collapsed": false,
    "jupyter": {
     "outputs_hidden": false
    },
    "pycharm": {
     "name": "#%% md\n"
    }
   },
   "source": [
    "# SKTime Implementation - Univariate Time Series Classification"
   ]
  },
  {
   "cell_type": "code",
   "execution_count": 1,
   "metadata": {
    "collapsed": false,
    "jupyter": {
     "outputs_hidden": false
    },
    "pycharm": {
     "name": "#%%\n"
    }
   },
   "outputs": [],
   "source": [
    "from Utils import getAllXlsx\n",
    "import pandas as pd\n",
    "from Utils import parsXlsxToDf\n",
    "from FeatureExtraction import euclideanDistance3dCalc, angleThreePoints3dCalc"
   ]
  },
  {
   "cell_type": "code",
   "execution_count": 2,
   "metadata": {
    "collapsed": false,
    "jupyter": {
     "outputs_hidden": false
    },
    "pycharm": {
     "name": "#%%\n"
    }
   },
   "outputs": [],
   "source": [
    "list_xlsx_bonaFide = getAllXlsx(input_directory='4_input_classification', select='BonaFide')\n",
    "list_xlsx_PAD_Mask = getAllXlsx(input_directory='4_input_classification', select='PAD_Mask')\n",
    "#list_xlsx_PAD_TShirt = getAllXlsx(input_directory='4_input_classification', select='PAD_T-Shirt')\n",
    "\n",
    "df_bonaFide = pd.DataFrame(columns=['label', 'hand_nose'])\n",
    "df_PAD = pd.DataFrame(columns=['label', 'hand_nose'])\n",
    "file_nr = 0\n",
    "for file in list_xlsx_bonaFide:\n",
    "    file_nr += 1\n",
    "    df_xlsx = parsXlsxToDf(file)\n",
    "    dist_left_nose = euclideanDistance3dCalc(lm1='LEFT_WRIST', lm2='NOSE', df_in=df_xlsx, onlyDistSeriesReturn=True)\n",
    "    df_bonaFide.loc[len(df_bonaFide)] = [0, dist_left_nose.tolist()]\n",
    "\n",
    "for file in list_xlsx_PAD_Mask:\n",
    "    df_xlsx = parsXlsxToDf(file)\n",
    "    dist_left_nose = euclideanDistance3dCalc(lm1='LEFT_WRIST', lm2='NOSE', df_in=df_xlsx, onlyDistSeriesReturn=True)\n",
    "    df_PAD.loc[len(df_PAD)] = [1, dist_left_nose.tolist()]\n",
    "\n",
    "df_merged = [df_bonaFide, df_PAD]\n",
    "df_merged = pd.concat(df_merged, ignore_index=True)"
   ]
  },
  {
   "cell_type": "code",
   "execution_count": 3,
   "metadata": {
    "collapsed": false,
    "jupyter": {
     "outputs_hidden": false
    },
    "pycharm": {
     "name": "#%%\n"
    }
   },
   "outputs": [
    {
     "data": {
      "text/html": [
       "<div>\n",
       "<style scoped>\n",
       "    .dataframe tbody tr th:only-of-type {\n",
       "        vertical-align: middle;\n",
       "    }\n",
       "\n",
       "    .dataframe tbody tr th {\n",
       "        vertical-align: top;\n",
       "    }\n",
       "\n",
       "    .dataframe thead th {\n",
       "        text-align: right;\n",
       "    }\n",
       "</style>\n",
       "<table border=\"1\" class=\"dataframe\">\n",
       "  <thead>\n",
       "    <tr style=\"text-align: right;\">\n",
       "      <th></th>\n",
       "      <th>label</th>\n",
       "      <th>hand_nose</th>\n",
       "    </tr>\n",
       "  </thead>\n",
       "  <tbody>\n",
       "    <tr>\n",
       "      <th>0</th>\n",
       "      <td>0</td>\n",
       "      <td>[755.5999335611326, 2457.3627023130075, 778.07...</td>\n",
       "    </tr>\n",
       "    <tr>\n",
       "      <th>1</th>\n",
       "      <td>0</td>\n",
       "      <td>[894.6365943256135, 2629.9068896361073, 2586.5...</td>\n",
       "    </tr>\n",
       "    <tr>\n",
       "      <th>2</th>\n",
       "      <td>0</td>\n",
       "      <td>[956.5557464749445, 2579.3210465848583, 2540.1...</td>\n",
       "    </tr>\n",
       "    <tr>\n",
       "      <th>3</th>\n",
       "      <td>0</td>\n",
       "      <td>[1545.9189587972264, 2762.7972678542255, 2740....</td>\n",
       "    </tr>\n",
       "    <tr>\n",
       "      <th>4</th>\n",
       "      <td>0</td>\n",
       "      <td>[2358.9153597992326, 682.9523106001287, 641.14...</td>\n",
       "    </tr>\n",
       "    <tr>\n",
       "      <th>...</th>\n",
       "      <td>...</td>\n",
       "      <td>...</td>\n",
       "    </tr>\n",
       "    <tr>\n",
       "      <th>93</th>\n",
       "      <td>1</td>\n",
       "      <td>[2046.4069039003812, 2457.2290366294746, 2487....</td>\n",
       "    </tr>\n",
       "    <tr>\n",
       "      <th>94</th>\n",
       "      <td>1</td>\n",
       "      <td>[1010.2851442170897, 2794.6603648878695, 2765....</td>\n",
       "    </tr>\n",
       "    <tr>\n",
       "      <th>95</th>\n",
       "      <td>1</td>\n",
       "      <td>[2743.085412954469, 2910.7700942778074, 2873.0...</td>\n",
       "    </tr>\n",
       "    <tr>\n",
       "      <th>96</th>\n",
       "      <td>1</td>\n",
       "      <td>[839.8276553302215, 2665.137383574172, 2625.65...</td>\n",
       "    </tr>\n",
       "    <tr>\n",
       "      <th>97</th>\n",
       "      <td>1</td>\n",
       "      <td>[1071.8475108260625, 2750.7768401050735, 809.7...</td>\n",
       "    </tr>\n",
       "  </tbody>\n",
       "</table>\n",
       "<p>98 rows × 2 columns</p>\n",
       "</div>"
      ],
      "text/plain": [
       "    label                                          hand_nose\n",
       "0       0  [755.5999335611326, 2457.3627023130075, 778.07...\n",
       "1       0  [894.6365943256135, 2629.9068896361073, 2586.5...\n",
       "2       0  [956.5557464749445, 2579.3210465848583, 2540.1...\n",
       "3       0  [1545.9189587972264, 2762.7972678542255, 2740....\n",
       "4       0  [2358.9153597992326, 682.9523106001287, 641.14...\n",
       "..    ...                                                ...\n",
       "93      1  [2046.4069039003812, 2457.2290366294746, 2487....\n",
       "94      1  [1010.2851442170897, 2794.6603648878695, 2765....\n",
       "95      1  [2743.085412954469, 2910.7700942778074, 2873.0...\n",
       "96      1  [839.8276553302215, 2665.137383574172, 2625.65...\n",
       "97      1  [1071.8475108260625, 2750.7768401050735, 809.7...\n",
       "\n",
       "[98 rows x 2 columns]"
      ]
     },
     "execution_count": 3,
     "metadata": {},
     "output_type": "execute_result"
    }
   ],
   "source": [
    "df_merged"
   ]
  },
  {
   "cell_type": "code",
   "execution_count": 3,
   "metadata": {
    "collapsed": false,
    "jupyter": {
     "outputs_hidden": false
    },
    "pycharm": {
     "name": "#%%\n"
    }
   },
   "outputs": [
    {
     "name": "stdout",
     "output_type": "stream",
     "text": [
      "Time: 12.706980228424072\n"
     ]
    }
   ],
   "source": [
    "from sklearn.ensemble import RandomForestClassifier\n",
    "from sktime.classification.interval_based import TimeSeriesForestClassifier\n",
    "from sktime.classification.kernel_based import RocketClassifier\n",
    "import numpy as np\n",
    "from sklearn.model_selection import train_test_split\n",
    "from sklearn.pipeline import Pipeline\n",
    "from sklearn.metrics import classification_report\n",
    "import time\n",
    "from sktime.classification.interval_based import DrCIF\n",
    "from sktime.transformations.panel.compose import ColumnConcatenator\n",
    "\n",
    "start = time.time()\n",
    "# Split the data into features (X) and labels (y)\n",
    "X = df_merged['hand_nose']\n",
    "y = df_merged['label']\n",
    "# Find the maximum length of the time series\n",
    "max_length = max(len(seq) for seq in X)\n",
    "\n",
    "# Pad the time series with zeros to the maximum length\n",
    "X_padded = np.array([np.pad(seq, (0, max_length - len(seq)), 'constant') for seq in X])\n",
    "\n",
    "# Split the data into training and testing sets\n",
    "X_train, X_test, y_train, y_test = train_test_split(X_padded, y, test_size=0.2, random_state=42)\n",
    "\n",
    "# Create a pipeline with classifier\n",
    "# RocketClassifier() is a fast kernel based classifier\n",
    "pipeline = Pipeline([\n",
    "    ('classifier', RocketClassifier())\n",
    "])\n",
    "# TimeSeriesForestClassifier() is a slow interval based classifier\n",
    "# pipeline = Pipeline([\n",
    "#     ('classifier', TimeSeriesForestClassifier())\n",
    "# ])\n",
    "\n",
    "# Fit the pipeline\n",
    "pipeline.fit(X_train, y_train)\n",
    "end = time.time()\n",
    "print(\"Time:\", end - start)"
   ]
  },
  {
   "cell_type": "code",
   "execution_count": 4,
   "metadata": {
    "collapsed": false,
    "jupyter": {
     "outputs_hidden": false
    },
    "pycharm": {
     "name": "#%%\n"
    }
   },
   "outputs": [
    {
     "name": "stdout",
     "output_type": "stream",
     "text": [
      "Accuracy: 1.0\n",
      "Time: 6.2501060962677\n"
     ]
    }
   ],
   "source": [
    "# Make predictions on the test data\n",
    "start = time.time()\n",
    "y_pred = pipeline.predict(X_test)\n",
    "\n",
    "# Evaluate the model\n",
    "accuracy = pipeline.score(X_test, y_test)\n",
    "print(\"Accuracy:\", accuracy)\n",
    "end = time.time()\n",
    "print(\"Time:\", end - start)"
   ]
  },
  {
   "cell_type": "code",
   "execution_count": 5,
   "metadata": {
    "collapsed": false,
    "jupyter": {
     "outputs_hidden": false
    },
    "pycharm": {
     "name": "#%%\n"
    }
   },
   "outputs": [
    {
     "name": "stdout",
     "output_type": "stream",
     "text": [
      "              precision    recall  f1-score   support\n",
      "\n",
      "           0       1.00      1.00      1.00        11\n",
      "           1       1.00      1.00      1.00        10\n",
      "           2       1.00      1.00      1.00         9\n",
      "\n",
      "    accuracy                           1.00        30\n",
      "   macro avg       1.00      1.00      1.00        30\n",
      "weighted avg       1.00      1.00      1.00        30\n",
      "\n"
     ]
    }
   ],
   "source": [
    "report = classification_report(y_test, y_pred)\n",
    "print(report)"
   ]
  },
  {
   "cell_type": "code",
   "execution_count": 65,
   "metadata": {
    "collapsed": false,
    "jupyter": {
     "outputs_hidden": false
    },
    "pycharm": {
     "name": "#%%\n"
    }
   },
   "outputs": [
    {
     "data": {
      "text/plain": [
       "<sklearn.metrics._plot.confusion_matrix.ConfusionMatrixDisplay at 0x27f944af850>"
      ]
     },
     "execution_count": 65,
     "metadata": {},
     "output_type": "execute_result"
    },
    {
     "data": {
      "image/png": "[encoded data removed]",
      "text/plain": [
       "<Figure size 640x480 with 2 Axes>"
      ]
     },
     "metadata": {},
     "output_type": "display_data"
    }
   ],
   "source": [
    "from sklearn.metrics import confusion_matrix\n",
    "from sklearn.metrics import ConfusionMatrixDisplay\n",
    "\n",
    "# Generate the confusion matrix\n",
    "cm = confusion_matrix(y_test, y_pred)\n",
    "disp = ConfusionMatrixDisplay(cm)\n",
    "disp.plot()"
   ]
  },
  {
   "cell_type": "code",
   "execution_count": 34,
   "metadata": {
    "collapsed": false,
    "jupyter": {
     "outputs_hidden": false
    },
    "pycharm": {
     "name": "#%%\n"
    }
   },
   "outputs": [
    {
     "data": {
      "image/png": "[encoded data removed]",
      "text/plain": [
       "<Figure size 640x480 with 1 Axes>"
      ]
     },
     "metadata": {},
     "output_type": "display_data"
    }
   ],
   "source": [
    "from sklearn.metrics import roc_curve, auc\n",
    "import matplotlib.pyplot as plt\n",
    "\n",
    "# Compute the predicted probabilities\n",
    "y_prob = pipeline.predict_proba(X_test)[:, 1]\n",
    "\n",
    "# Compute the false positive rate, true positive rate, and threshold\n",
    "fpr, tpr, thresholds = roc_curve(y_test, y_prob)\n",
    "\n",
    "# Compute the area under the ROC curve\n",
    "roc_auc = auc(fpr, tpr)\n",
    "\n",
    "# Plot the ROC curve\n",
    "plt.plot(fpr, tpr, label='ROC curve (AUC = {:.2f})'.format(roc_auc))\n",
    "plt.plot([0, 1], [0, 1], 'k--')  # Random guessing line\n",
    "plt.xlabel('False Positive Rate')\n",
    "plt.ylabel('True Positive Rate')\n",
    "plt.title('Receiver Operating Characteristic')\n",
    "plt.legend(loc='lower right')\n",
    "plt.show()"
   ]
  },
  {
   "cell_type": "markdown",
   "metadata": {
    "collapsed": false,
    "jupyter": {
     "outputs_hidden": false
    },
    "pycharm": {
     "name": "#%% md\n"
    }
   },
   "source": [
    "# SKTime Implementation - Multivariate Time Series Classification"
   ]
  },
  {
   "cell_type": "code",
   "execution_count": 6,
   "metadata": {
    "collapsed": false,
    "jupyter": {
     "outputs_hidden": false
    },
    "pycharm": {
     "name": "#%%\n"
    }
   },
   "outputs": [],
   "source": [
    "from Utils import getAllXlsx\n",
    "import pandas as pd\n",
    "from Utils import parsXlsxToDf\n",
    "from FeatureExtraction import euclideanDistance3dCalc, angleThreePoints3dCalc"
   ]
  },
  {
   "cell_type": "code",
   "execution_count": 7,
   "metadata": {
    "collapsed": false,
    "jupyter": {
     "outputs_hidden": false
    },
    "pycharm": {
     "name": "#%%\n"
    }
   },
   "outputs": [],
   "source": [
    "list_xlsx_bonaFide = getAllXlsx(input_directory='4_input_classification', select='BonaFide')\n",
    "list_xlsx_PAD_Mask = getAllXlsx(input_directory='4_input_classification', select='PAD_Mask')\n",
    "list_xlsx_PAD_TShirt = getAllXlsx(input_directory='4_input_classification', select='PAD_T-Shirt')\n",
    "\n",
    "df_bonaFide = pd.DataFrame(columns=['label', 'hand_nose', 'hand_hand'])\n",
    "df_PAD = pd.DataFrame(columns=['label', 'hand_nose', 'hand_hand'])\n",
    "file_nr = 0\n",
    "for file in list_xlsx_bonaFide:\n",
    "    file_nr += 1\n",
    "    df_xlsx = parsXlsxToDf(file)\n",
    "    dist_left_nose = euclideanDistance3dCalc(lm1='LEFT_WRIST', lm2='NOSE', df_in=df_xlsx, onlyDistSeriesReturn=True)\n",
    "    dist_both_hands = euclideanDistance3dCalc(lm1='LEFT_WRIST', lm2='RIGHT_WRIST', df_in=df_xlsx, onlyDistSeriesReturn=True)\n",
    "    df_bonaFide.loc[len(df_bonaFide)] = [0, dist_left_nose.tolist(), dist_both_hands.tolist()]\n",
    "\n",
    "for file in list_xlsx_PAD_Mask:\n",
    "    df_xlsx = parsXlsxToDf(file)\n",
    "    dist_left_nose = euclideanDistance3dCalc(lm1='LEFT_WRIST', lm2='NOSE', df_in=df_xlsx, onlyDistSeriesReturn=True)\n",
    "    dist_both_hands = euclideanDistance3dCalc(lm1='LEFT_WRIST', lm2='RIGHT_WRIST', df_in=df_xlsx, onlyDistSeriesReturn=True)\n",
    "    df_PAD.loc[len(df_PAD)] = [1, dist_left_nose.tolist(), dist_both_hands.tolist()]\n",
    "\n",
    "for file in list_xlsx_PAD_TShirt:\n",
    "    df_xlsx = parsXlsxToDf(file)\n",
    "    dist_left_nose = euclideanDistance3dCalc(lm1='LEFT_WRIST', lm2='NOSE', df_in=df_xlsx, onlyDistSeriesReturn=True)\n",
    "    dist_both_hands = euclideanDistance3dCalc(lm1='LEFT_WRIST', lm2='RIGHT_WRIST', df_in=df_xlsx, onlyDistSeriesReturn=True)\n",
    "    df_PAD.loc[len(df_PAD)] = [2, dist_left_nose.tolist(), dist_both_hands.tolist()]\n",
    "\n",
    "df_merged = [df_bonaFide, df_PAD]\n",
    "df_merged = pd.concat(df_merged, ignore_index=True)"
   ]
  },
  {
   "cell_type": "markdown",
   "metadata": {
    "collapsed": false,
    "jupyter": {
     "outputs_hidden": false
    },
    "pycharm": {
     "name": "#%% md\n"
    }
   },
   "source": [
    "Approach to handle multivariate time series data:\n",
    "1. Concatenate the time series data into a single feature space\n",
    "2. Use a transformation to convert the data into a univariate time series\n",
    "3. Use a classifier that can handle univariate time series data"
   ]
  },
  {
   "cell_type": "code",
   "execution_count": 8,
   "metadata": {
    "collapsed": false,
    "jupyter": {
     "outputs_hidden": false
    },
    "pycharm": {
     "name": "#%%\n"
    }
   },
   "outputs": [
    {
     "data": {
      "text/html": [
       "<div>\n",
       "<style scoped>\n",
       "    .dataframe tbody tr th:only-of-type {\n",
       "        vertical-align: middle;\n",
       "    }\n",
       "\n",
       "    .dataframe tbody tr th {\n",
       "        vertical-align: top;\n",
       "    }\n",
       "\n",
       "    .dataframe thead th {\n",
       "        text-align: right;\n",
       "    }\n",
       "</style>\n",
       "<table border=\"1\" class=\"dataframe\">\n",
       "  <thead>\n",
       "    <tr style=\"text-align: right;\">\n",
       "      <th></th>\n",
       "      <th>label</th>\n",
       "      <th>hand_nose</th>\n",
       "      <th>hand_hand</th>\n",
       "    </tr>\n",
       "  </thead>\n",
       "  <tbody>\n",
       "    <tr>\n",
       "      <th>0</th>\n",
       "      <td>0</td>\n",
       "      <td>[755.5999335611326, 2457.3627023130075, 778.07...</td>\n",
       "      <td>[462.6495610669502, 2330.4458984163216, 448.99...</td>\n",
       "    </tr>\n",
       "    <tr>\n",
       "      <th>1</th>\n",
       "      <td>0</td>\n",
       "      <td>[894.6365943256135, 2629.9068896361073, 2586.5...</td>\n",
       "      <td>[2522.637602107679, 2522.637602107679, 2522.63...</td>\n",
       "    </tr>\n",
       "    <tr>\n",
       "      <th>2</th>\n",
       "      <td>0</td>\n",
       "      <td>[956.5557464749445, 2579.3210465848583, 2540.1...</td>\n",
       "      <td>[2602.8482524209426, 2294.0306707538857, 2263....</td>\n",
       "    </tr>\n",
       "    <tr>\n",
       "      <th>3</th>\n",
       "      <td>0</td>\n",
       "      <td>[1545.9189587972264, 2762.7972678542255, 2740....</td>\n",
       "      <td>[3250.3945993420384, 3250.3945993420384, 2346....</td>\n",
       "    </tr>\n",
       "    <tr>\n",
       "      <th>4</th>\n",
       "      <td>0</td>\n",
       "      <td>[2358.9153597992326, 682.9523106001287, 641.14...</td>\n",
       "      <td>[4293.239651307972, 295.76802795514226, 281.64...</td>\n",
       "    </tr>\n",
       "    <tr>\n",
       "      <th>...</th>\n",
       "      <td>...</td>\n",
       "      <td>...</td>\n",
       "      <td>...</td>\n",
       "    </tr>\n",
       "    <tr>\n",
       "      <th>142</th>\n",
       "      <td>2</td>\n",
       "      <td>[552.3527631037892, 2566.6966088970507, 2551.0...</td>\n",
       "      <td>[299.79272609676906, 299.79272609676906, 2314....</td>\n",
       "    </tr>\n",
       "    <tr>\n",
       "      <th>143</th>\n",
       "      <td>2</td>\n",
       "      <td>[1678.9648670142676, 2575.876100157286, 2545.7...</td>\n",
       "      <td>[412.47930627135077, 412.47930627135077, 2297....</td>\n",
       "    </tr>\n",
       "    <tr>\n",
       "      <th>144</th>\n",
       "      <td>2</td>\n",
       "      <td>[730.2535762567915, 2643.5399331784574, 494.44...</td>\n",
       "      <td>[1769.844801409424, 2372.619222703574, 214.650...</td>\n",
       "    </tr>\n",
       "    <tr>\n",
       "      <th>145</th>\n",
       "      <td>2</td>\n",
       "      <td>[503.6051005817442, 539.1474748084486, 513.866...</td>\n",
       "      <td>[1603.240511899659, 1461.991084204037, 260.310...</td>\n",
       "    </tr>\n",
       "    <tr>\n",
       "      <th>146</th>\n",
       "      <td>2</td>\n",
       "      <td>[2641.910511132048, 2574.4082447197175, 2547.9...</td>\n",
       "      <td>[1674.844116142802, 2606.1837803600274, 2335.5...</td>\n",
       "    </tr>\n",
       "  </tbody>\n",
       "</table>\n",
       "<p>147 rows × 3 columns</p>\n",
       "</div>"
      ],
      "text/plain": [
       "     label                                          hand_nose  \\\n",
       "0        0  [755.5999335611326, 2457.3627023130075, 778.07...   \n",
       "1        0  [894.6365943256135, 2629.9068896361073, 2586.5...   \n",
       "2        0  [956.5557464749445, 2579.3210465848583, 2540.1...   \n",
       "3        0  [1545.9189587972264, 2762.7972678542255, 2740....   \n",
       "4        0  [2358.9153597992326, 682.9523106001287, 641.14...   \n",
       "..     ...                                                ...   \n",
       "142      2  [552.3527631037892, 2566.6966088970507, 2551.0...   \n",
       "143      2  [1678.9648670142676, 2575.876100157286, 2545.7...   \n",
       "144      2  [730.2535762567915, 2643.5399331784574, 494.44...   \n",
       "145      2  [503.6051005817442, 539.1474748084486, 513.866...   \n",
       "146      2  [2641.910511132048, 2574.4082447197175, 2547.9...   \n",
       "\n",
       "                                             hand_hand  \n",
       "0    [462.6495610669502, 2330.4458984163216, 448.99...  \n",
       "1    [2522.637602107679, 2522.637602107679, 2522.63...  \n",
       "2    [2602.8482524209426, 2294.0306707538857, 2263....  \n",
       "3    [3250.3945993420384, 3250.3945993420384, 2346....  \n",
       "4    [4293.239651307972, 295.76802795514226, 281.64...  \n",
       "..                                                 ...  \n",
       "142  [299.79272609676906, 299.79272609676906, 2314....  \n",
       "143  [412.47930627135077, 412.47930627135077, 2297....  \n",
       "144  [1769.844801409424, 2372.619222703574, 214.650...  \n",
       "145  [1603.240511899659, 1461.991084204037, 260.310...  \n",
       "146  [1674.844116142802, 2606.1837803600274, 2335.5...  \n",
       "\n",
       "[147 rows x 3 columns]"
      ]
     },
     "execution_count": 8,
     "metadata": {},
     "output_type": "execute_result"
    }
   ],
   "source": [
    "df_merged"
   ]
  },
  {
   "cell_type": "code",
   "execution_count": 9,
   "metadata": {
    "collapsed": false,
    "jupyter": {
     "outputs_hidden": false
    },
    "pycharm": {
     "name": "#%%\n"
    }
   },
   "outputs": [
    {
     "name": "stdout",
     "output_type": "stream",
     "text": [
      "Time: 1.3658366203308105\n"
     ]
    }
   ],
   "source": [
    "from sklearn.ensemble import RandomForestClassifier\n",
    "from sktime.classification.interval_based import TimeSeriesForestClassifier\n",
    "import numpy as np\n",
    "from sklearn.model_selection import train_test_split\n",
    "from sklearn.pipeline import Pipeline\n",
    "from sklearn.metrics import classification_report\n",
    "from sktime.classification.interval_based import DrCIF\n",
    "from sktime.transformations.panel.compose import ColumnConcatenator\n",
    "from sktime.classification.compose import ColumnEnsembleClassifier\n",
    "from sktime.classification.compose import ComposableTimeSeriesForestClassifier\n",
    "import time\n",
    "\n",
    "start = time.time()\n",
    "# Split the data into features (X) and labels (y)\n",
    "X = df_merged.drop('label', axis=1)\n",
    "y = df_merged['label'].values\n",
    "\n",
    "# Find the maximum length for each column in X\n",
    "max_lengths = [max(len(seq) for seq in X[col]) for col in X.columns]\n",
    "\n",
    "# Pad the time series with zeros to the maximum length for each column\n",
    "X_padded = np.array([\n",
    "    [np.pad(seq, (0, max_len - len(seq)), 'constant') for seq in series]\n",
    "    for series, max_len in zip(X.values.T, max_lengths)\n",
    "])\n",
    "# Transpose X_padded to match the shape of y\n",
    "X_padded = X_padded.transpose(1, 2, 0)\n",
    "\n",
    "# Split the data into training and testing sets\n",
    "X_train, X_test, y_train, y_test = train_test_split(X_padded, y, test_size=0.2, random_state=42)\n",
    "\n",
    "# Create a pipeline with TimeSeriesForestClassifier\n",
    "pipeline = Pipeline([\n",
    "    ('concatenator', ColumnConcatenator()),  # Concatenate the multivariate time series\n",
    "    ('classifier', TimeSeriesForestClassifier())  # Use the ROCKET classifier\n",
    "])\n",
    "\n",
    "# # Create a pipeline with RocketClassifier\n",
    "# pipeline = Pipeline([\n",
    "#     ('concatenator', ColumnConcatenator()),  # Concatenate the multivariate time series\n",
    "#     ('classifier', RocketClassifier())  # Use the ROCKET classifier\n",
    "# ])\n",
    "\n",
    "# Fit the pipeline\n",
    "pipeline.fit(X_train, y_train)\n",
    "end = time.time()\n",
    "print(\"Time:\", end - start)"
   ]
  },
  {
   "cell_type": "code",
   "execution_count": 10,
   "metadata": {
    "collapsed": false,
    "jupyter": {
     "outputs_hidden": false
    },
    "pycharm": {
     "name": "#%%\n"
    }
   },
   "outputs": [
    {
     "name": "stdout",
     "output_type": "stream",
     "text": [
      "Accuracy: 1.0\n",
      "Time: 0.9133453369140625\n"
     ]
    }
   ],
   "source": [
    "start = time.time()\n",
    "# Make predictions on the test data\n",
    "y_pred = pipeline.predict(X_test)\n",
    "\n",
    "# Evaluate the model\n",
    "accuracy = pipeline.score(X_test, y_test)\n",
    "print(\"Accuracy:\", accuracy)\n",
    "end = time.time()\n",
    "print(\"Time:\", end - start)"
   ]
  },
  {
   "cell_type": "code",
   "execution_count": 11,
   "metadata": {
    "collapsed": false,
    "jupyter": {
     "outputs_hidden": false
    },
    "pycharm": {
     "name": "#%%\n"
    }
   },
   "outputs": [
    {
     "name": "stdout",
     "output_type": "stream",
     "text": [
      "              precision    recall  f1-score   support\n",
      "\n",
      "           0       1.00      1.00      1.00        11\n",
      "           1       1.00      1.00      1.00        10\n",
      "           2       1.00      1.00      1.00         9\n",
      "\n",
      "    accuracy                           1.00        30\n",
      "   macro avg       1.00      1.00      1.00        30\n",
      "weighted avg       1.00      1.00      1.00        30\n",
      "\n"
     ]
    }
   ],
   "source": [
    "report = classification_report(y_test, y_pred)\n",
    "print(report)"
   ]
  },
  {
   "cell_type": "code",
   "execution_count": 45,
   "metadata": {
    "collapsed": false,
    "jupyter": {
     "outputs_hidden": false
    },
    "pycharm": {
     "name": "#%%\n"
    }
   },
   "outputs": [
    {
     "data": {
      "text/plain": [
       "<sklearn.metrics._plot.confusion_matrix.ConfusionMatrixDisplay at 0x27f91f792e0>"
      ]
     },
     "execution_count": 45,
     "metadata": {},
     "output_type": "execute_result"
    },
    {
     "data": {
      "image/png": "[encoded data removed]",
      "text/plain": [
       "<Figure size 640x480 with 2 Axes>"
      ]
     },
     "metadata": {},
     "output_type": "display_data"
    }
   ],
   "source": [
    "from sklearn.metrics import confusion_matrix\n",
    "from sklearn.metrics import ConfusionMatrixDisplay\n",
    "\n",
    "# Generate the confusion matrix\n",
    "cm = confusion_matrix(y_test, y_pred)\n",
    "disp = ConfusionMatrixDisplay(cm)\n",
    "disp.plot()"
   ]
  },
  {
   "cell_type": "markdown",
   "metadata": {
    "collapsed": false,
    "jupyter": {
     "outputs_hidden": false
    },
    "pycharm": {
     "name": "#%% md\n"
    }
   },
   "source": [
    "# KERAS LSTM-Netowrk (Just tested, not working)"
   ]
  },
  {
   "cell_type": "code",
   "execution_count": 92,
   "metadata": {
    "collapsed": false,
    "jupyter": {
     "outputs_hidden": false
    },
    "pycharm": {
     "name": "#%%\n"
    }
   },
   "outputs": [
    {
     "name": "stdout",
     "output_type": "stream",
     "text": [
      "Epoch 1/10\n",
      "3/3 [==============================] - 3s 426ms/step - loss: 0.6936 - accuracy: 0.4831 - val_loss: 0.7119 - val_accuracy: 0.4000\n",
      "Epoch 2/10\n",
      "3/3 [==============================] - 1s 174ms/step - loss: 0.6932 - accuracy: 0.5056 - val_loss: 0.7109 - val_accuracy: 0.5000\n",
      "Epoch 3/10\n",
      "3/3 [==============================] - 1s 173ms/step - loss: 0.6931 - accuracy: 0.4494 - val_loss: 0.7087 - val_accuracy: 0.5000\n",
      "Epoch 4/10\n",
      "3/3 [==============================] - 0s 168ms/step - loss: 0.6929 - accuracy: 0.5056 - val_loss: 0.7049 - val_accuracy: 0.5000\n",
      "Epoch 5/10\n",
      "3/3 [==============================] - 0s 172ms/step - loss: 0.6927 - accuracy: 0.5056 - val_loss: 0.6991 - val_accuracy: 0.5000\n",
      "Epoch 6/10\n",
      "3/3 [==============================] - 0s 170ms/step - loss: 0.6924 - accuracy: 0.5056 - val_loss: 0.6916 - val_accuracy: 0.5000\n",
      "Epoch 7/10\n",
      "3/3 [==============================] - 0s 165ms/step - loss: 0.6917 - accuracy: 0.5056 - val_loss: 0.6757 - val_accuracy: 0.5000\n",
      "Epoch 8/10\n",
      "3/3 [==============================] - 0s 165ms/step - loss: 0.6903 - accuracy: 0.5056 - val_loss: 0.6616 - val_accuracy: 0.5000\n",
      "Epoch 9/10\n",
      "3/3 [==============================] - 0s 164ms/step - loss: 0.6891 - accuracy: 0.5056 - val_loss: 0.6486 - val_accuracy: 0.5000\n",
      "Epoch 10/10\n",
      "3/3 [==============================] - 0s 167ms/step - loss: 0.6912 - accuracy: 0.5056 - val_loss: 0.6413 - val_accuracy: 0.5000\n",
      "1/1 [==============================] - 0s 38ms/step - loss: 0.6413 - accuracy: 0.5000\n",
      "Loss: 0.6412622332572937\n",
      "Accuracy: 0.5\n"
     ]
    }
   ],
   "source": [
    "import pandas as pd\n",
    "import numpy as np\n",
    "from sklearn.model_selection import train_test_split\n",
    "from sklearn.preprocessing import LabelEncoder, MinMaxScaler\n",
    "from tensorflow.keras.models import Sequential\n",
    "from tensorflow.keras.layers import Dense, SimpleRNN, LSTM, Embedding\n",
    "from tensorflow.keras.utils import to_categorical\n",
    "from tensorflow.keras.preprocessing.sequence import pad_sequences\n",
    "\n",
    "# Split the data into features (X) and labels (y)\n",
    "X = df_merged['data'].tolist()\n",
    "y = df_merged['label']\n",
    "\n",
    "# Convert labels to numeric values\n",
    "label_encoder = LabelEncoder()\n",
    "y = label_encoder.fit_transform(y)\n",
    "\n",
    "# Split the data into training and testing sets\n",
    "X_train, X_test, y_train, y_test = train_test_split(X, y, test_size=0.1, random_state=42)\n",
    "\n",
    "# Normalize the training and testing data\n",
    "scaler = MinMaxScaler()\n",
    "X_train_normalized = [scaler.fit_transform(seq.reshape(-1, 1)) for seq in X_train]\n",
    "X_test_normalized = [scaler.transform(seq.reshape(-1, 1)) for seq in X_test]\n",
    "\n",
    "# Find the maximum sequence length\n",
    "max_length = max(len(seq) for seq in X_train + X_test)\n",
    "\n",
    "# Pad sequences to the maximum length\n",
    "X_train = pad_sequences(X_train, maxlen=max_length, padding='post', truncating='post', dtype='float32')\n",
    "X_test = pad_sequences(X_test, maxlen=max_length, padding='post', truncating='post', dtype='float32')\n",
    "\n",
    "# Convert labels to categorical format\n",
    "y_train = to_categorical(y_train)\n",
    "y_test = to_categorical(y_test)\n",
    "\n",
    "# Define the RNN model\n",
    "model = Sequential()\n",
    "model.add(LSTM(64, input_shape=(max_length, 1), return_sequences=True))\n",
    "model.add(LSTM(64))\n",
    "model.add(Dense(2, activation='sigmoid'))\n",
    "\n",
    "# Compile the model\n",
    "model.compile(optimizer='adam', loss='binary_crossentropy', metrics=['accuracy'])\n",
    "\n",
    "# Train the model\n",
    "model.fit(X_train, y_train, epochs=10, batch_size=32, validation_data=(X_test, y_test))\n",
    "\n",
    "# Evaluate the model\n",
    "loss, accuracy = model.evaluate(X_test, y_test)\n",
    "print(\"Loss:\", loss)\n",
    "print(\"Accuracy:\", accuracy)"
   ]
  }
 ],
 "metadata": {
  "kernelspec": {
   "display_name": "Python 3 (ipykernel)",
   "language": "python",
   "name": "python3"
  },
  "language_info": {
   "codemirror_mode": {
    "name": "ipython",
    "version": 3
   },
   "file_extension": ".py",
   "mimetype": "text/x-python",
   "name": "python",
   "nbconvert_exporter": "python",
   "pygments_lexer": "ipython3",
   "version": "3.9.17"
  }
 },
 "nbformat": 4,
 "nbformat_minor": 4
}