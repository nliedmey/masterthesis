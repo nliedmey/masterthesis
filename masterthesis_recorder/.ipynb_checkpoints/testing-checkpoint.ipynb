{
 "cells": [
  {
   "cell_type": "code",
   "execution_count": 2,
   "metadata": {
    "pycharm": {
     "name": "#%%\n"
    }
   },
   "outputs": [],
   "source": [
    "from pyk4a import PyK4A\n",
    "import cv2\n",
    "import helpers\n",
    "import numpy as np\n",
    "import k4a\n",
    "import pyk4a\n",
    "import ctypes\n",
    "import  open3d\n",
    "import sys\n",
    "import os"
   ]
  },
  {
   "cell_type": "code",
   "execution_count": 13,
   "metadata": {
    "pycharm": {
     "name": "#%%\n"
    }
   },
   "outputs": [
    {
     "data": {
      "text/plain": [
       "['output.mkv']"
      ]
     },
     "execution_count": 13,
     "metadata": {},
     "output_type": "execute_result"
    }
   ],
   "source": [
    "os.getcwd()\n",
    "os.chdir(\"D:\")\n",
    "os.getcwd()\n",
    "#os.mkdir(\"storage\")\n",
    "os.chdir(\"D:\\storage\")\n",
    "os.getcwd()\n",
    "os.listdir(\"D:\\storage\")"
   ]
  },
  {
   "cell_type": "code",
   "execution_count": 3,
   "metadata": {
    "pycharm": {
     "name": "#%%\n"
    }
   },
   "outputs": [],
   "source": [
    "# https://github.com/ibaiGorordo/pyKinectAzure/blob/226ab1cfb1d96b78a8fa38b260467e1fd04df2b9/pykinect_azure/utils/plot3dUtils.py#L1\n",
    "import numpy as np\n",
    "import cv2\n",
    "import open3d as o3d\n",
    "\n",
    "class Open3dVisualizer():\n",
    "\n",
    "\tdef __init__(self):\n",
    "\n",
    "\t\tself.point_cloud = o3d.geometry.PointCloud()\n",
    "\t\tself.o3d_started = False\n",
    "\n",
    "\t\tself.vis = o3d.visualization.Visualizer()\n",
    "\t\tself.vis.create_window()\n",
    "\n",
    "\tdef __call__(self, points_3d, rgb_image=None):\n",
    "\n",
    "\t\tself.update(points_3d, rgb_image)\n",
    "\n",
    "\tdef update(self, points_3d, rgb_image=None):\n",
    "\n",
    "\t\t# Add values to vectors\n",
    "\t\tself.point_cloud.points = o3d.utility.Vector3dVector(points_3d)\n",
    "\t\tif rgb_image is not None:\n",
    "\t\t\tcolors = cv2.cvtColor(rgb_image, cv2.COLOR_BGRA2RGB).reshape(-1,3)/255\n",
    "\t\t\tself.point_cloud.colors = o3d.utility.Vector3dVector(colors)\n",
    "\n",
    "\t\tself.point_cloud.transform([[1,0,0,0],[0,-1,0,0],[0,0,-1,0],[0,0,0,1]])\n",
    "\n",
    "\t\t# Add geometries if it is the first time\n",
    "\t\tif not self.o3d_started:\n",
    "\t\t\tself.vis.add_geometry(self.point_cloud)\n",
    "\t\t\tself.o3d_started = True\n",
    "\n",
    "\t\telse:\n",
    "\t\t\tself.vis.update_geometry(self.point_cloud)\n",
    "\n",
    "\t\tself.vis.poll_events()\n",
    "\t\tself.vis.update_renderer()"
   ]
  },
  {
   "cell_type": "code",
   "execution_count": 10,
   "metadata": {
    "pycharm": {
     "name": "#%%\n"
    }
   },
   "outputs": [
    {
     "name": "stderr",
     "output_type": "stream",
     "text": [
      "IOPub data rate exceeded.\n",
      "The notebook server will temporarily stop sending output\n",
      "to the client in order to avoid crashing it.\n",
      "To change this limit, set the config variable\n",
      "`--NotebookApp.iopub_data_rate_limit`.\n",
      "\n",
      "Current values:\n",
      "NotebookApp.iopub_data_rate_limit=1000000.0 (bytes/sec)\n",
      "NotebookApp.rate_limit_window=3.0 (secs)\n",
      "\n"
     ]
    }
   ],
   "source": [
    "# Testing pyk4a store and open3d\n",
    "open3dViz = Open3dVisualizer()\n",
    "k4a = PyK4A()\n",
    "k4a.start()\n",
    "i = 0\n",
    "while 1:\n",
    "    capture = k4a.get_capture()\n",
    "    if np.any(capture):\n",
    "        pc = capture.depth_point_cloud\n",
    "        #np.save(\"pc_\"+str(i), pc)\n",
    "        i = i +1\n",
    "\n",
    "        #out.write(capture.color)\n",
    "        cv2.imshow(\"k4a color\", capture.color[:, :, :3])\n",
    "        cv2.imshow(\"k4a depth\", helpers.colorize(capture.depth, (None, 5000), cv2.COLORMAP_HSV))\n",
    "        cv2.imshow(\"k4a ir\", capture.ir)\n",
    "        key = cv2.waitKey(10)\n",
    "        if key != -1:\n",
    "            cv2.destroyAllWindows()\n",
    "            break\n",
    "k4a.stop()\n",
    "print(pc)\n",
    "#open3dViz.vis(pc)"
   ]
  },
  {
   "cell_type": "code",
   "execution_count": 16,
   "metadata": {
    "pycharm": {
     "name": "#%%\n"
    }
   },
   "outputs": [
    {
     "name": "stdout",
     "output_type": "stream",
     "text": [
      "Failed to start Device\n"
     ]
    },
    {
     "data": {
      "text/plain": [
       "17"
      ]
     },
     "execution_count": 16,
     "metadata": {},
     "output_type": "execute_result"
    }
   ],
   "source": [
    "# Testing k4a library\n",
    "device = k4a.k4a_device_t()\n",
    "k4a.k4a_device_open(k4a.K4A_DEVICE_DEFAULT, device)\n",
    "config = k4a.k4a_device_configuration_t\n",
    "config = k4a.K4A_DEVICE_CONFIG_INIT_DISABLE_ALL\n",
    "config.camera_fps = k4a.K4A_FRAMES_PER_SECOND_15\n",
    "config.color_format = k4a.K4A_IMAGE_FORMAT_COLOR_BGRA32\n",
    "config.color_resolution = k4a.K4A_COLOR_RESOLUTION_3072P\n",
    "\n",
    "#k4a.k4a_device_start_cameras(device, config)\n",
    "\n",
    "if (k4a.K4A_RESULT_SUCCEEDED != k4a.k4a_device_start_cameras(device, config)):\n",
    "    print(\"Failed to start Device\")\n",
    "\n",
    "\n",
    "k4a.k4a_device_close(device)\n",
    "# frame_count = 0\n",
    "# while frame_count < 100:\n",
    "#     sensor_capture = k4a.k4a_capture_t()\n",
    "#     get_capture_result = k4a.k4a_device_get_capture(device, ctypes.byref(sensor_capture), k4a.K4A_WAIT_INFINITE)\n",
    "#\n",
    "#     if get_capture_result == k4a.K4A_WAIT_RESULT_SUCCEEDED:\n",
    "#         frame_count += 1\n",
    "#         cv2.imshow(\"test\", get_capture_result.imag)\n",
    "#         key = cv2.waitKey(10)\n",
    "#         if key != -1:\n",
    "#             cv2.destroyWindows()\n",
    "#             break\n"
   ]
  },
  {
   "cell_type": "code",
   "execution_count": null,
   "metadata": {
    "pycharm": {
     "name": "#%%\n"
    }
   },
   "outputs": [],
   "source": []
  },
  {
   "cell_type": "code",
   "execution_count": 15,
   "metadata": {
    "pycharm": {
     "name": "#%%\n"
    }
   },
   "outputs": [
    {
     "name": "stdout",
     "output_type": "stream",
     "text": [
      "3\n"
     ]
    }
   ],
   "source": [
    "k4a = PyK4A()\n",
    "k4a.start()\n",
    "#out = cv2.VideoWriter(\"text.avi\", cv2.VideoWriter_fourcc('M','J','P','G'), 10, (1920,1080))\n",
    "while 1:\n",
    "    capture = k4a.get_capture()\n",
    "    if np.any(capture):\n",
    "        #out.write(capture.color)\n",
    "        depth = capture.depth_point_cloud\n",
    "        cv2.imshow(\"k4a color\", capture.color[:, :, :3])\n",
    "        cv2.imshow(\"k4a depth\", helpers.colorize(capture.depth, (None, 5000), cv2.COLORMAP_HSV))\n",
    "        cv2.imshow(\"k4a ir\", capture.ir)\n",
    "        key = cv2.waitKey(10)\n",
    "        if key != -1:\n",
    "            cv2.destroyAllWindows()\n",
    "            break\n",
    "k4a.stop()\n",
    "#open3dViz(depth)\n",
    "print(depth.ndim)\n"
   ]
  },
  {
   "cell_type": "code",
   "execution_count": 18,
   "metadata": {
    "pycharm": {
     "name": "#%%\n"
    }
   },
   "outputs": [
    {
     "name": "stdout",
     "output_type": "stream",
     "text": [
      "1 video(s) converted to MP4!\n"
     ]
    }
   ],
   "source": [
    "import os\n",
    "import subprocess\n",
    "\n",
    "if not os.path.exists(\"assets\"):\n",
    "    raise Exception(\"Please create and put all your vidoes in assets folder!\")\n",
    "\n",
    "mkv_list = os.listdir(\"assets\")\n",
    "\n",
    "if not os.path.exists(\"result\"):\n",
    "    os.mkdir(\"result\")\n",
    "\n",
    "for mkv in mkv_list:\n",
    "    name, ext = os.path.splitext(mkv)\n",
    "    if ext != \".mkv\":\n",
    "        raise Exception(\"Please add MKV files only!\")\n",
    "\n",
    "    output_name = name + \".mp4\"\n",
    "    try:\n",
    "        subprocess.run(\n",
    "            [\"ffmpeg\", \"-i\", f\"assets/{mkv}\", \"-codec\", \"copy\", f\"result/{output_name}\"], check=True\n",
    "        )\n",
    "    except:\n",
    "        raise Exception(\n",
    "            \"Please DOWNLOAD, INSTALL & ADD the path of FFMPEG to Environment Variables!\"\n",
    "        )\n",
    "\n",
    "\n",
    "print(f\"{len(mkv_list)} video(s) converted to MP4!\")\n",
    "os.startfile(\"result\")"
   ]
  },
  {
   "cell_type": "code",
   "execution_count": 2,
   "metadata": {
    "pycharm": {
     "name": "#%%\n"
    }
   },
   "outputs": [],
   "source": [
    "import ffmpeg"
   ]
  },
  {
   "cell_type": "code",
   "execution_count": 9,
   "metadata": {
    "pycharm": {
     "name": "#%%\n"
    }
   },
   "outputs": [],
   "source": [
    "input = ffmpeg.input(\"assets/output.mkv\")"
   ]
  },
  {
   "cell_type": "code",
   "execution_count": 12,
   "metadata": {
    "pycharm": {
     "name": "#%%\n"
    }
   },
   "outputs": [],
   "source": [
    "output = ffmpeg.output(input[\"2\"], \"testout.mkv\")"
   ]
  },
  {
   "cell_type": "code",
   "execution_count": 1,
   "metadata": {
    "pycharm": {
     "name": "#%%\n"
    }
   },
   "outputs": [
    {
     "name": "stdout",
     "output_type": "stream",
     "text": [
      "C:\\Users\\Nico\\miniconda3\\envs\\masterthesis\\lib\\site-packages\\k4a/../vendor/azure_kinect/windows/amd64/\n"
     ]
    }
   ],
   "source": [
    "import numpy as np\n",
    "import cv2 as cv\n",
    "import k4a\n",
    "\n",
    "class kinect:\n",
    "    # Kinect\n",
    "    _device = None\n",
    "    _capture = None\n",
    "\n",
    "    # Depth\n",
    "    _depth_image = None\n",
    "    _depth = None\n",
    "\n",
    "    def __init__(self):\n",
    "        self.initialize()\n",
    "\n",
    "    def __del__(self):\n",
    "        self.finalize()\n",
    "\n",
    "    def initialize(self):\n",
    "        self.initialize_sensor()\n",
    "\n",
    "    def finalize(self):\n",
    "        self.finalize_sensor()\n",
    "\n",
    "    def initialize_sensor(self):\n",
    "        # Open Device\n",
    "        self._device = k4a.Device.open()\n",
    "\n",
    "        # Start Cameras\n",
    "        device_config = k4a.DeviceConfiguration(\n",
    "            color_format=k4a.EImageFormat.COLOR_BGRA32,\n",
    "            color_resolution=k4a.EColorResolution.RES_720P,\n",
    "            depth_mode=k4a.EDepthMode.NFOV_UNBINNED,\n",
    "            camera_fps=k4a.EFramesPerSecond.FPS_30,\n",
    "            synchronized_images_only=True\n",
    "        )\n",
    "        status = self._device.start_cameras(device_config)\n",
    "        if status != k4a.EStatus.SUCCEEDED:\n",
    "            raise IOError(\"failed start cameras!\")\n",
    "\n",
    "    def finalize_sensor(self):\n",
    "        # Stop Cameras\n",
    "        self._device.stop_cameras()\n",
    "\n",
    "    def run(self):\n",
    "        while True:\n",
    "            self.update()\n",
    "            self.draw()\n",
    "            self.show()\n",
    "\n",
    "            key = cv.waitKey(10)\n",
    "            if key == ord('q'):\n",
    "                break\n",
    "\n",
    "    def update(self):\n",
    "        self.update_frame()\n",
    "        self.update_depth()\n",
    "\n",
    "    def update_frame(self):\n",
    "        # Capture Frame\n",
    "        self._capture = self._device.get_capture(-1)\n",
    "        if self._capture is None:\n",
    "            raise IOError(\"failed get capture!\")\n",
    "\n",
    "    def update_depth(self):\n",
    "        # Update Depth\n",
    "        self._depth_image = self._capture.depth\n",
    "\n",
    "    def draw(self):\n",
    "        self.draw_depth()\n",
    "\n",
    "    def draw_depth(self):\n",
    "        # Draw Depth\n",
    "        self._depth = self._depth_image.data\n",
    "\n",
    "    def show(self):\n",
    "        self.show_depth()\n",
    "\n",
    "    def show_depth(self):\n",
    "        # Scaling Depth\n",
    "        self._depth = self._depth * (-255.0 / 5000.0) + 255.0\n",
    "        self._depth = self._depth.astype(np.uint8)\n",
    "\n",
    "        # Show Depth\n",
    "        cv.imshow(\"depth\", self._depth)\n"
   ]
  },
  {
   "cell_type": "code",
   "execution_count": 2,
   "metadata": {
    "pycharm": {
     "name": "#%%\n"
    }
   },
   "outputs": [
    {
     "name": "stderr",
     "output_type": "stream",
     "text": [
      "Exception ignored in: <function kinect.__del__ at 0x00000133F33BCAF0>\n",
      "Traceback (most recent call last):\n",
      "  File \"C:\\Users\\Nico\\AppData\\Local\\Temp\\ipykernel_15844\\1832276051.py\", line 18, in __del__\n",
      "  File \"C:\\Users\\Nico\\AppData\\Local\\Temp\\ipykernel_15844\\1832276051.py\", line 24, in finalize\n",
      "  File \"C:\\Users\\Nico\\AppData\\Local\\Temp\\ipykernel_15844\\1832276051.py\", line 44, in finalize_sensor\n",
      "AttributeError: 'NoneType' object has no attribute 'stop_cameras'\n"
     ]
    },
    {
     "name": "stdout",
     "output_type": "stream",
     "text": [
      "module 'k4a' has no attribute 'Device'\n"
     ]
    }
   ],
   "source": [
    "try:\n",
    "    kinect = kinect()\n",
    "    kinect.run()\n",
    "except Exception as e:\n",
    "    print(e)"
   ]
  },
  {
   "cell_type": "code",
   "execution_count": 1,
   "metadata": {
    "pycharm": {
     "name": "#%%\n"
    }
   },
   "outputs": [
    {
     "name": "stdout",
     "output_type": "stream",
     "text": [
      "C:\\Users\\Nico\\miniconda3\\envs\\masterthesis\\lib\\site-packages\\k4a/../vendor/azure_kinect/windows/amd64/\n"
     ]
    }
   ],
   "source": [
    "import traceback\n",
    "import k4a, ctypes"
   ]
  },
  {
   "cell_type": "code",
   "execution_count": 2,
   "metadata": {
    "pycharm": {
     "name": "#%%\n"
    }
   },
   "outputs": [],
   "source": [
    "def VERIFY(result, error):\n",
    "    if result != k4a.K4A_RESULT_SUCCEEDED:\n",
    "        print(error)\n",
    "        traceback.print_stack()\n",
    "        sys.exit(1)"
   ]
  },
  {
   "cell_type": "code",
   "execution_count": 3,
   "metadata": {
    "pycharm": {
     "name": "#%%\n"
    }
   },
   "outputs": [],
   "source": [
    "# Load device config\n",
    "device_config = k4a.K4A_DEVICE_CONFIG_INIT_DISABLE_ALL\n",
    "device_config.depth_mode = k4a.K4A_DEPTH_MODE_NFOV_UNBINNED\n",
    "device = k4a.k4a_device_t()"
   ]
  },
  {
   "cell_type": "code",
   "execution_count": 4,
   "metadata": {
    "pycharm": {
     "name": "#%%\n"
    }
   },
   "outputs": [],
   "source": [
    "# Open and start device\n",
    "VERIFY(k4a.k4a_device_open(0, ctypes.byref(device)), \"Open K4A Device failed!\")\n",
    "VERIFY(k4a.k4a_device_start_cameras(device, ctypes.byref(device_config)), \"Start K4A cameras failed!\")"
   ]
  },
  {
   "cell_type": "code",
   "execution_count": 5,
   "metadata": {
    "pycharm": {
     "name": "#%%\n"
    }
   },
   "outputs": [],
   "source": [
    "# Depth sensor calibration\n",
    "sensor_calibration = k4a.k4a_calibration_t()\n",
    "VERIFY(k4a.k4a_device_get_calibration(device, device_config.depth_mode, k4a.K4A_COLOR_RESOLUTION_OFF, ctypes.byref(sensor_calibration)), \"Get Sensor Calibration failed!\")"
   ]
  },
  {
   "cell_type": "code",
   "execution_count": 7,
   "metadata": {
    "pycharm": {
     "name": "#%%\n"
    }
   },
   "outputs": [
    {
     "name": "stdout",
     "output_type": "stream",
     "text": [
      "Initialize Tracker failed\n"
     ]
    },
    {
     "name": "stderr",
     "output_type": "stream",
     "text": [
      "  File \"C:\\Users\\Nico\\miniconda3\\envs\\masterthesis\\lib\\runpy.py\", line 197, in _run_module_as_main\n",
      "    return _run_code(code, main_globals, None,\n",
      "  File \"C:\\Users\\Nico\\miniconda3\\envs\\masterthesis\\lib\\runpy.py\", line 87, in _run_code\n",
      "    exec(code, run_globals)\n",
      "  File \"C:\\Users\\Nico\\miniconda3\\envs\\masterthesis\\lib\\site-packages\\ipykernel_launcher.py\", line 17, in <module>\n",
      "    app.launch_new_instance()\n",
      "  File \"C:\\Users\\Nico\\miniconda3\\envs\\masterthesis\\lib\\site-packages\\traitlets\\config\\application.py\", line 846, in launch_instance\n",
      "    app.start()\n",
      "  File \"C:\\Users\\Nico\\miniconda3\\envs\\masterthesis\\lib\\site-packages\\ipykernel\\kernelapp.py\", line 712, in start\n",
      "    self.io_loop.start()\n",
      "  File \"C:\\Users\\Nico\\miniconda3\\envs\\masterthesis\\lib\\site-packages\\tornado\\platform\\asyncio.py\", line 215, in start\n",
      "    self.asyncio_loop.run_forever()\n",
      "  File \"C:\\Users\\Nico\\miniconda3\\envs\\masterthesis\\lib\\asyncio\\base_events.py\", line 601, in run_forever\n",
      "    self._run_once()\n",
      "  File \"C:\\Users\\Nico\\miniconda3\\envs\\masterthesis\\lib\\asyncio\\base_events.py\", line 1905, in _run_once\n",
      "    handle._run()\n",
      "  File \"C:\\Users\\Nico\\miniconda3\\envs\\masterthesis\\lib\\asyncio\\events.py\", line 80, in _run\n",
      "    self._context.run(self._callback, *self._args)\n",
      "  File \"C:\\Users\\Nico\\miniconda3\\envs\\masterthesis\\lib\\site-packages\\ipykernel\\kernelbase.py\", line 510, in dispatch_queue\n",
      "    await self.process_one()\n",
      "  File \"C:\\Users\\Nico\\miniconda3\\envs\\masterthesis\\lib\\site-packages\\ipykernel\\kernelbase.py\", line 499, in process_one\n",
      "    await dispatch(*args)\n",
      "  File \"C:\\Users\\Nico\\miniconda3\\envs\\masterthesis\\lib\\site-packages\\ipykernel\\kernelbase.py\", line 406, in dispatch_shell\n",
      "    await result\n",
      "  File \"C:\\Users\\Nico\\miniconda3\\envs\\masterthesis\\lib\\site-packages\\ipykernel\\kernelbase.py\", line 730, in execute_request\n",
      "    reply_content = await reply_content\n",
      "  File \"C:\\Users\\Nico\\miniconda3\\envs\\masterthesis\\lib\\site-packages\\ipykernel\\ipkernel.py\", line 383, in do_execute\n",
      "    res = shell.run_cell(\n",
      "  File \"C:\\Users\\Nico\\miniconda3\\envs\\masterthesis\\lib\\site-packages\\ipykernel\\zmqshell.py\", line 528, in run_cell\n",
      "    return super().run_cell(*args, **kwargs)\n",
      "  File \"C:\\Users\\Nico\\miniconda3\\envs\\masterthesis\\lib\\site-packages\\IPython\\core\\interactiveshell.py\", line 2881, in run_cell\n",
      "    result = self._run_cell(\n",
      "  File \"C:\\Users\\Nico\\miniconda3\\envs\\masterthesis\\lib\\site-packages\\IPython\\core\\interactiveshell.py\", line 2936, in _run_cell\n",
      "    return runner(coro)\n",
      "  File \"C:\\Users\\Nico\\miniconda3\\envs\\masterthesis\\lib\\site-packages\\IPython\\core\\async_helpers.py\", line 129, in _pseudo_sync_runner\n",
      "    coro.send(None)\n",
      "  File \"C:\\Users\\Nico\\miniconda3\\envs\\masterthesis\\lib\\site-packages\\IPython\\core\\interactiveshell.py\", line 3135, in run_cell_async\n",
      "    has_raised = await self.run_ast_nodes(code_ast.body, cell_name,\n",
      "  File \"C:\\Users\\Nico\\miniconda3\\envs\\masterthesis\\lib\\site-packages\\IPython\\core\\interactiveshell.py\", line 3338, in run_ast_nodes\n",
      "    if await self.run_code(code, result, async_=asy):\n",
      "  File \"C:\\Users\\Nico\\miniconda3\\envs\\masterthesis\\lib\\site-packages\\IPython\\core\\interactiveshell.py\", line 3398, in run_code\n",
      "    exec(code_obj, self.user_global_ns, self.user_ns)\n",
      "  File \"C:\\Users\\Nico\\AppData\\Local\\Temp\\ipykernel_2904\\4095696896.py\", line 4, in <cell line: 4>\n",
      "    VERIFY(k4a.k4abt_tracker_create(ctypes.byref(sensor_calibration), tracker_config, ctypes.byref(tracker)),\"Initialize Tracker failed\")\n",
      "  File \"C:\\Users\\Nico\\AppData\\Local\\Temp\\ipykernel_2904\\4276796546.py\", line 4, in VERIFY\n",
      "    traceback.print_stack()\n"
     ]
    },
    {
     "ename": "SystemExit",
     "evalue": "1",
     "output_type": "error",
     "traceback": [
      "An exception has occurred, use %tb to see the full traceback.\n",
      "\u001b[1;31mSystemExit\u001b[0m\u001b[1;31m:\u001b[0m 1\n"
     ]
    },
    {
     "name": "stderr",
     "output_type": "stream",
     "text": [
      "C:\\Users\\Nico\\miniconda3\\envs\\masterthesis\\lib\\site-packages\\IPython\\core\\interactiveshell.py:3406: UserWarning: To exit: use 'exit', 'quit', or Ctrl-D.\n",
      "  warn(\"To exit: use 'exit', 'quit', or Ctrl-D.\", stacklevel=1)\n"
     ]
    }
   ],
   "source": [
    "# Body Tracker initialization\n",
    "tracker = k4a.k4abt_tracker_t()\n",
    "tracker_config = k4a.K4ABT_TRACKER_CONFIG_DEFAULT\n",
    "VERIFY(k4a.k4abt_tracker_create(ctypes.byref(sensor_calibration), tracker_config, ctypes.byref(tracker)),\"Initialize Tracker failed\")"
   ]
  },
  {
   "cell_type": "code",
   "execution_count": 21,
   "metadata": {
    "pycharm": {
     "name": "#%%\n"
    }
   },
   "outputs": [
    {
     "ename": "TypeError",
     "evalue": "this function takes at least 1 argument (0 given)",
     "output_type": "error",
     "traceback": [
      "\u001b[1;31m---------------------------------------------------------------------------\u001b[0m",
      "\u001b[1;31mTypeError\u001b[0m                                 Traceback (most recent call last)",
      "Input \u001b[1;32mIn [21]\u001b[0m, in \u001b[0;36m<cell line: 2>\u001b[1;34m()\u001b[0m\n\u001b[0;32m      1\u001b[0m sensor_capture \u001b[38;5;241m=\u001b[39m k4a\u001b[38;5;241m.\u001b[39mk4a_capture_t()\n\u001b[1;32m----> 2\u001b[0m image \u001b[38;5;241m=\u001b[39m \u001b[43mk4a\u001b[49m\u001b[38;5;241;43m.\u001b[39;49m\u001b[43mk4abt_frame_get_capture\u001b[49m\u001b[43m(\u001b[49m\u001b[43m)\u001b[49m\n\u001b[0;32m      3\u001b[0m \u001b[38;5;66;03m#get_capture_result = k4a.k4a_device_get_capture(device, ctypes.byref(sensor_capture), k4a.K4A_WAIT_INFINITE)\u001b[39;00m\n\u001b[0;32m      4\u001b[0m \u001b[38;5;28mprint\u001b[39m(image)\n",
      "\u001b[1;31mTypeError\u001b[0m: this function takes at least 1 argument (0 given)"
     ]
    }
   ],
   "source": [
    "sensor_capture = k4a.k4a_capture_t()\n",
    "image = k4a.k4abt_frame_get_capture()\n",
    "#get_capture_result = k4a.k4a_device_get_capture(device, ctypes.byref(sensor_capture), k4a.K4A_WAIT_INFINITE)\n",
    "print(image)"
   ]
  },
  {
   "cell_type": "code",
   "execution_count": 8,
   "metadata": {
    "pycharm": {
     "name": "#%%\n"
    }
   },
   "outputs": [
    {
     "name": "stdout",
     "output_type": "stream",
     "text": [
      "Start processing frame 1\n",
      "Error! Add capture to tracker process queue failed!\n"
     ]
    },
    {
     "data": {
      "text/plain": [
       "1019193280"
      ]
     },
     "execution_count": 8,
     "metadata": {},
     "output_type": "execute_result"
    }
   ],
   "source": [
    "frame_count = 0\n",
    "while frame_count < 100:\n",
    "        sensor_capture = k4a.k4a_capture_t()\n",
    "        get_capture_result = k4a.k4a_device_get_capture(device, ctypes.byref(sensor_capture), k4a.K4A_WAIT_INFINITE)\n",
    "\n",
    "        if get_capture_result == k4a.K4A_WAIT_RESULT_SUCCEEDED:\n",
    "            frame_count += 1\n",
    "\n",
    "            print(\"Start processing frame {}\".format(frame_count))\n",
    "\n",
    "            queue_capture_result = k4a.k4abt_tracker_enqueue_capture(tracker, sensor_capture, k4a.K4A_WAIT_INFINITE)\n",
    "\n",
    "            k4a.k4a_capture_release(sensor_capture)\n",
    "\n",
    "            if queue_capture_result == k4a.K4A_WAIT_RESULT_TIMEOUT:\n",
    "                # It should never hit timeout when K4A_WAIT_INFINITE is set.\n",
    "                print(\"Error! Add capture to tracker process queue timeout!\")\n",
    "                break\n",
    "            elif queue_capture_result == k4a.K4A_WAIT_RESULT_FAILED:\n",
    "                print(\"Error! Add capture to tracker process queue failed!\")\n",
    "                break\n",
    "\n",
    "            body_frame = k4a.k4abt_frame_t()\n",
    "            pop_frame_result = k4a.k4abt_tracker_pop_result(tracker, ctypes.byref(body_frame), k4a.K4A_WAIT_INFINITE)\n",
    "            if pop_frame_result == k4a.K4A_WAIT_RESULT_SUCCEEDED:\n",
    "                num_bodies = k4a.k4abt_frame_get_num_bodies(body_frame)\n",
    "                print(\"{} bodies are detected!\".format(num_bodies))\n",
    "\n",
    "                for i in range(num_bodies):\n",
    "                    body = k4a.k4abt_body_t()\n",
    "                    body.id = k4a.k4abt_frame_get_body_id(body_frame, i)\n",
    "                body_index_map = k4a.k4abt_frame_get_body_index_map(body_frame)\n",
    "                if body_index_map:\n",
    "                    k4a.k4a_image_release(body_index_map)\n",
    "                else:\n",
    "                    print(\"Error: Fail to generate bodyindex map!\")\n",
    "\n",
    "                k4a.k4abt_frame_release(body_frame)\n",
    "            elif pop_frame_result == k4a.K4A_WAIT_RESULT_TIMEOUT:\n",
    "                # It should never hit timeout when K4A_WAIT_INFINITE is set.\n",
    "                print(\"Error! Pop body frame result timeout!\")\n",
    "                break\n",
    "            else:\n",
    "                print(\"Pop body frame result failed!\")\n",
    "                break\n",
    "        elif get_capture_result == k4a.K4A_WAIT_RESULT_TIMEOUT:\n",
    "            # It should never hit timeout when K4A_WAIT_INFINITE is set.\n",
    "            print(\"Error! Get depth frame time out!\")\n",
    "            break\n",
    "        else:\n",
    "            print(\"Get depth capture returned error: {}\".format(get_capture_result))\n",
    "\n",
    "k4a.k4abt_tracker_shutdown(tracker)\n",
    "k4a.k4abt_tracker_destroy(tracker)"
   ]
  },
  {
   "cell_type": "code",
   "execution_count": 2,
   "metadata": {
    "pycharm": {
     "name": "#%%\n"
    }
   },
   "outputs": [
    {
     "ename": "NameError",
     "evalue": "name 'device' is not defined",
     "output_type": "error",
     "traceback": [
      "\u001b[1;31m---------------------------------------------------------------------------\u001b[0m",
      "\u001b[1;31mNameError\u001b[0m                                 Traceback (most recent call last)",
      "Input \u001b[1;32mIn [2]\u001b[0m, in \u001b[0;36m<cell line: 2>\u001b[1;34m()\u001b[0m\n\u001b[0;32m      1\u001b[0m \u001b[38;5;66;03m# End and close Device\u001b[39;00m\n\u001b[1;32m----> 2\u001b[0m k4a\u001b[38;5;241m.\u001b[39mk4a_device_stop_cameras(\u001b[43mdevice\u001b[49m, ctypes\u001b[38;5;241m.\u001b[39mbyref(device))\n\u001b[0;32m      3\u001b[0m k4a\u001b[38;5;241m.\u001b[39mk4a_device_close(device)\n",
      "\u001b[1;31mNameError\u001b[0m: name 'device' is not defined"
     ]
    }
   ],
   "source": [
    "# End and close Device\n",
    "k4a.k4a_device_stop_cameras(device, ctypes.byref(device))\n",
    "k4a.k4a_device_close(device)"
   ]
  },
  {
   "cell_type": "code",
   "execution_count": 3,
   "metadata": {
    "pycharm": {
     "name": "#%%\n"
    }
   },
   "outputs": [
    {
     "ename": "ModuleNotFoundError",
     "evalue": "No module named '_k4a'",
     "output_type": "error",
     "traceback": [
      "\u001b[1;31m---------------------------------------------------------------------------\u001b[0m",
      "\u001b[1;31mModuleNotFoundError\u001b[0m                       Traceback (most recent call last)",
      "Cell \u001b[1;32mIn [3], line 1\u001b[0m\n\u001b[1;32m----> 1\u001b[0m \u001b[38;5;28;01mimport\u001b[39;00m \u001b[38;5;21;01m_k4a\u001b[39;00m\u001b[38;5;21;01m.\u001b[39;00m\u001b[38;5;21;01mpy\u001b[39;00m\n",
      "\u001b[1;31mModuleNotFoundError\u001b[0m: No module named '_k4a'"
     ]
    }
   ],
   "source": [
    "import _k4a.py"
   ]
  },
  {
   "cell_type": "code",
   "execution_count": null,
   "metadata": {},
   "outputs": [],
   "source": []
  }
 ],
 "metadata": {
  "kernelspec": {
   "display_name": "Python 3 (ipykernel)",
   "language": "python",
   "name": "python3"
  },
  "language_info": {
   "codemirror_mode": {
    "name": "ipython",
    "version": 3
   },
   "file_extension": ".py",
   "mimetype": "text/x-python",
   "name": "python",
   "nbconvert_exporter": "python",
   "pygments_lexer": "ipython3",
   "version": "3.9.15"
  }
 },
 "nbformat": 4,
 "nbformat_minor": 1
}
